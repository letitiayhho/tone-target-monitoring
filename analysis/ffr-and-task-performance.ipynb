{
 "cells": [
  {
   "cell_type": "code",
   "execution_count": 2,
   "id": "7a8a1da9",
   "metadata": {},
   "outputs": [],
   "source": [
    "from matplotlib import pyplot as plt\n",
    "from itertools import product\n",
    "import seaborn as sns\n",
    "import numpy as np\n",
    "import pandas as pd\n",
    "import os.path as op\n",
    "import argparse\n",
    "import re\n",
    "from sklearn.linear_model import LinearRegression"
   ]
  },
  {
   "cell_type": "code",
   "execution_count": 33,
   "id": "50102fd4",
   "metadata": {},
   "outputs": [
    {
     "data": {
      "text/html": [
       "<div>\n",
       "<style scoped>\n",
       "    .dataframe tbody tr th:only-of-type {\n",
       "        vertical-align: middle;\n",
       "    }\n",
       "\n",
       "    .dataframe tbody tr th {\n",
       "        vertical-align: top;\n",
       "    }\n",
       "\n",
       "    .dataframe thead th {\n",
       "        text-align: right;\n",
       "    }\n",
       "</style>\n",
       "<table border=\"1\" class=\"dataframe\">\n",
       "  <thead>\n",
       "    <tr style=\"text-align: right;\">\n",
       "      <th></th>\n",
       "      <th>sub_num</th>\n",
       "      <th>accuracy</th>\n",
       "    </tr>\n",
       "  </thead>\n",
       "  <tbody>\n",
       "    <tr>\n",
       "      <th>0</th>\n",
       "      <td>1</td>\n",
       "      <td>0.952563</td>\n",
       "    </tr>\n",
       "    <tr>\n",
       "      <th>1</th>\n",
       "      <td>2</td>\n",
       "      <td>0.901232</td>\n",
       "    </tr>\n",
       "    <tr>\n",
       "      <th>2</th>\n",
       "      <td>3</td>\n",
       "      <td>0.785415</td>\n",
       "    </tr>\n",
       "    <tr>\n",
       "      <th>3</th>\n",
       "      <td>4</td>\n",
       "      <td>0.958154</td>\n",
       "    </tr>\n",
       "    <tr>\n",
       "      <th>4</th>\n",
       "      <td>5</td>\n",
       "      <td>0.919971</td>\n",
       "    </tr>\n",
       "    <tr>\n",
       "      <th>5</th>\n",
       "      <td>6</td>\n",
       "      <td>0.921653</td>\n",
       "    </tr>\n",
       "    <tr>\n",
       "      <th>6</th>\n",
       "      <td>7</td>\n",
       "      <td>0.911613</td>\n",
       "    </tr>\n",
       "    <tr>\n",
       "      <th>7</th>\n",
       "      <td>8</td>\n",
       "      <td>0.989489</td>\n",
       "    </tr>\n",
       "    <tr>\n",
       "      <th>8</th>\n",
       "      <td>9</td>\n",
       "      <td>0.912759</td>\n",
       "    </tr>\n",
       "    <tr>\n",
       "      <th>9</th>\n",
       "      <td>10</td>\n",
       "      <td>0.965335</td>\n",
       "    </tr>\n",
       "    <tr>\n",
       "      <th>10</th>\n",
       "      <td>11</td>\n",
       "      <td>0.963677</td>\n",
       "    </tr>\n",
       "    <tr>\n",
       "      <th>11</th>\n",
       "      <td>12</td>\n",
       "      <td>0.973498</td>\n",
       "    </tr>\n",
       "    <tr>\n",
       "      <th>12</th>\n",
       "      <td>13</td>\n",
       "      <td>0.828309</td>\n",
       "    </tr>\n",
       "    <tr>\n",
       "      <th>13</th>\n",
       "      <td>14</td>\n",
       "      <td>0.873894</td>\n",
       "    </tr>\n",
       "    <tr>\n",
       "      <th>14</th>\n",
       "      <td>15</td>\n",
       "      <td>0.945653</td>\n",
       "    </tr>\n",
       "    <tr>\n",
       "      <th>15</th>\n",
       "      <td>16</td>\n",
       "      <td>0.936664</td>\n",
       "    </tr>\n",
       "    <tr>\n",
       "      <th>16</th>\n",
       "      <td>17</td>\n",
       "      <td>0.762749</td>\n",
       "    </tr>\n",
       "    <tr>\n",
       "      <th>17</th>\n",
       "      <td>18</td>\n",
       "      <td>0.856830</td>\n",
       "    </tr>\n",
       "    <tr>\n",
       "      <th>18</th>\n",
       "      <td>19</td>\n",
       "      <td>0.966960</td>\n",
       "    </tr>\n",
       "    <tr>\n",
       "      <th>19</th>\n",
       "      <td>20</td>\n",
       "      <td>0.920203</td>\n",
       "    </tr>\n",
       "    <tr>\n",
       "      <th>20</th>\n",
       "      <td>21</td>\n",
       "      <td>0.915769</td>\n",
       "    </tr>\n",
       "    <tr>\n",
       "      <th>21</th>\n",
       "      <td>22</td>\n",
       "      <td>0.962313</td>\n",
       "    </tr>\n",
       "    <tr>\n",
       "      <th>22</th>\n",
       "      <td>23</td>\n",
       "      <td>0.795391</td>\n",
       "    </tr>\n",
       "    <tr>\n",
       "      <th>23</th>\n",
       "      <td>24</td>\n",
       "      <td>0.909197</td>\n",
       "    </tr>\n",
       "    <tr>\n",
       "      <th>24</th>\n",
       "      <td>25</td>\n",
       "      <td>0.951773</td>\n",
       "    </tr>\n",
       "    <tr>\n",
       "      <th>25</th>\n",
       "      <td>26</td>\n",
       "      <td>0.992600</td>\n",
       "    </tr>\n",
       "    <tr>\n",
       "      <th>26</th>\n",
       "      <td>27</td>\n",
       "      <td>0.727522</td>\n",
       "    </tr>\n",
       "    <tr>\n",
       "      <th>27</th>\n",
       "      <td>28</td>\n",
       "      <td>0.937646</td>\n",
       "    </tr>\n",
       "    <tr>\n",
       "      <th>28</th>\n",
       "      <td>29</td>\n",
       "      <td>0.920770</td>\n",
       "    </tr>\n",
       "    <tr>\n",
       "      <th>29</th>\n",
       "      <td>30</td>\n",
       "      <td>0.975812</td>\n",
       "    </tr>\n",
       "    <tr>\n",
       "      <th>30</th>\n",
       "      <td>31</td>\n",
       "      <td>0.939970</td>\n",
       "    </tr>\n",
       "  </tbody>\n",
       "</table>\n",
       "</div>"
      ],
      "text/plain": [
       "    sub_num  accuracy\n",
       "0         1  0.952563\n",
       "1         2  0.901232\n",
       "2         3  0.785415\n",
       "3         4  0.958154\n",
       "4         5  0.919971\n",
       "5         6  0.921653\n",
       "6         7  0.911613\n",
       "7         8  0.989489\n",
       "8         9  0.912759\n",
       "9        10  0.965335\n",
       "10       11  0.963677\n",
       "11       12  0.973498\n",
       "12       13  0.828309\n",
       "13       14  0.873894\n",
       "14       15  0.945653\n",
       "15       16  0.936664\n",
       "16       17  0.762749\n",
       "17       18  0.856830\n",
       "18       19  0.966960\n",
       "19       20  0.920203\n",
       "20       21  0.915769\n",
       "21       22  0.962313\n",
       "22       23  0.795391\n",
       "23       24  0.909197\n",
       "24       25  0.951773\n",
       "25       26  0.992600\n",
       "26       27  0.727522\n",
       "27       28  0.937646\n",
       "28       29  0.920770\n",
       "29       30  0.975812\n",
       "30       31  0.939970"
      ]
     },
     "execution_count": 33,
     "metadata": {},
     "output_type": "execute_result"
    }
   ],
   "source": [
    "# Load task accuracies\n",
    "accuracies = pd.read_csv('accuracies.csv')\n",
    "behav_subs = np.unique(accuracies.sub_num)\n",
    "accuracies"
   ]
  },
  {
   "cell_type": "code",
   "execution_count": 40,
   "id": "727c7cc1",
   "metadata": {},
   "outputs": [],
   "source": [
    "# Load power\n",
    "spectrums = pd.read_csv('spectrums.csv', sep = '\\t')\n",
    "spectrums = spectrums[spectrums.subject.isin(behav_subs)] # Drop subs not in behavioral data\n",
    "spec_subs = np.unique(spectrums.subject)\n",
    "accuracies = accuracies[accuracies.sub_num.isin(spec_subs)] # Drop subs not in power"
   ]
  },
  {
   "cell_type": "code",
   "execution_count": 59,
   "id": "4ff7ceb9",
   "metadata": {},
   "outputs": [
    {
     "name": "stdout",
     "output_type": "stream",
     "text": [
      "130 130\n",
      "200 200\n",
      "280 280\n"
     ]
    }
   ],
   "source": [
    "# Run ANOVA\n",
    "targets = (130, 200, 280)\n",
    "target_freqs = (130, 200, 280)\n",
    "power = []\n",
    "\n",
    "for target, target_freq in zip(targets, target_freqs):\n",
    "    print(target, target_freq)\n",
    "    \n",
    "    idx = np.abs(spectrums.frequency - target_freq).argmin()\n",
    "    hz = spectrums.frequency[idx]\n",
    "    idx = np.abs(spectrums.frequency - target_freq*2).argmin()\n",
    "    hz_harmonic1 = spectrums.frequency[idx]\n",
    "    power_f0 = spectrums[(spectrums.frequency == hz) | (spectrums.frequency == hz_harmonic1)]\n",
    "    power_f0 = power_f0[power_f0.stimulus == target]\n",
    "    power_f0 = power_f0.groupby(['subject', 'target', 'stimulus'], as_index=False).mean()\n",
    "\n",
    "    power.append(power_f0)\n",
    "power = pd.concat(power)"
   ]
  },
  {
   "cell_type": "code",
   "execution_count": 73,
   "id": "21a9541a",
   "metadata": {},
   "outputs": [
    {
     "data": {
      "text/html": [
       "<div>\n",
       "<style scoped>\n",
       "    .dataframe tbody tr th:only-of-type {\n",
       "        vertical-align: middle;\n",
       "    }\n",
       "\n",
       "    .dataframe tbody tr th {\n",
       "        vertical-align: top;\n",
       "    }\n",
       "\n",
       "    .dataframe thead th {\n",
       "        text-align: right;\n",
       "    }\n",
       "</style>\n",
       "<table border=\"1\" class=\"dataframe\">\n",
       "  <thead>\n",
       "    <tr style=\"text-align: right;\">\n",
       "      <th></th>\n",
       "      <th>subject</th>\n",
       "      <th>target</th>\n",
       "      <th>stimulus</th>\n",
       "      <th>frequency</th>\n",
       "      <th>power</th>\n",
       "      <th>accuracy</th>\n",
       "    </tr>\n",
       "  </thead>\n",
       "  <tbody>\n",
       "    <tr>\n",
       "      <th>0</th>\n",
       "      <td>3</td>\n",
       "      <td>130</td>\n",
       "      <td>130</td>\n",
       "      <td>194.190871</td>\n",
       "      <td>4.499763</td>\n",
       "      <td>0.785415</td>\n",
       "    </tr>\n",
       "    <tr>\n",
       "      <th>1</th>\n",
       "      <td>3</td>\n",
       "      <td>200</td>\n",
       "      <td>130</td>\n",
       "      <td>194.190871</td>\n",
       "      <td>7.971883</td>\n",
       "      <td>0.785415</td>\n",
       "    </tr>\n",
       "    <tr>\n",
       "      <th>2</th>\n",
       "      <td>3</td>\n",
       "      <td>280</td>\n",
       "      <td>130</td>\n",
       "      <td>194.190871</td>\n",
       "      <td>7.028215</td>\n",
       "      <td>0.785415</td>\n",
       "    </tr>\n",
       "    <tr>\n",
       "      <th>3</th>\n",
       "      <td>4</td>\n",
       "      <td>130</td>\n",
       "      <td>130</td>\n",
       "      <td>194.190871</td>\n",
       "      <td>0.440029</td>\n",
       "      <td>0.958154</td>\n",
       "    </tr>\n",
       "    <tr>\n",
       "      <th>4</th>\n",
       "      <td>4</td>\n",
       "      <td>200</td>\n",
       "      <td>130</td>\n",
       "      <td>194.190871</td>\n",
       "      <td>1.040998</td>\n",
       "      <td>0.958154</td>\n",
       "    </tr>\n",
       "    <tr>\n",
       "      <th>...</th>\n",
       "      <td>...</td>\n",
       "      <td>...</td>\n",
       "      <td>...</td>\n",
       "      <td>...</td>\n",
       "      <td>...</td>\n",
       "      <td>...</td>\n",
       "    </tr>\n",
       "    <tr>\n",
       "      <th>79</th>\n",
       "      <td>30</td>\n",
       "      <td>200</td>\n",
       "      <td>280</td>\n",
       "      <td>418.257261</td>\n",
       "      <td>5.645911</td>\n",
       "      <td>0.975812</td>\n",
       "    </tr>\n",
       "    <tr>\n",
       "      <th>80</th>\n",
       "      <td>30</td>\n",
       "      <td>280</td>\n",
       "      <td>280</td>\n",
       "      <td>418.257261</td>\n",
       "      <td>7.555284</td>\n",
       "      <td>0.975812</td>\n",
       "    </tr>\n",
       "    <tr>\n",
       "      <th>81</th>\n",
       "      <td>31</td>\n",
       "      <td>130</td>\n",
       "      <td>280</td>\n",
       "      <td>418.257261</td>\n",
       "      <td>2.954490</td>\n",
       "      <td>0.939970</td>\n",
       "    </tr>\n",
       "    <tr>\n",
       "      <th>82</th>\n",
       "      <td>31</td>\n",
       "      <td>200</td>\n",
       "      <td>280</td>\n",
       "      <td>418.257261</td>\n",
       "      <td>2.848199</td>\n",
       "      <td>0.939970</td>\n",
       "    </tr>\n",
       "    <tr>\n",
       "      <th>83</th>\n",
       "      <td>31</td>\n",
       "      <td>280</td>\n",
       "      <td>280</td>\n",
       "      <td>418.257261</td>\n",
       "      <td>3.551966</td>\n",
       "      <td>0.939970</td>\n",
       "    </tr>\n",
       "  </tbody>\n",
       "</table>\n",
       "<p>252 rows × 6 columns</p>\n",
       "</div>"
      ],
      "text/plain": [
       "    subject  target  stimulus   frequency     power  accuracy\n",
       "0         3     130       130  194.190871  4.499763  0.785415\n",
       "1         3     200       130  194.190871  7.971883  0.785415\n",
       "2         3     280       130  194.190871  7.028215  0.785415\n",
       "3         4     130       130  194.190871  0.440029  0.958154\n",
       "4         4     200       130  194.190871  1.040998  0.958154\n",
       "..      ...     ...       ...         ...       ...       ...\n",
       "79       30     200       280  418.257261  5.645911  0.975812\n",
       "80       30     280       280  418.257261  7.555284  0.975812\n",
       "81       31     130       280  418.257261  2.954490  0.939970\n",
       "82       31     200       280  418.257261  2.848199  0.939970\n",
       "83       31     280       280  418.257261  3.551966  0.939970\n",
       "\n",
       "[252 rows x 6 columns]"
      ]
     },
     "execution_count": 73,
     "metadata": {},
     "output_type": "execute_result"
    }
   ],
   "source": [
    "# Add accuracy scores to power\n",
    "power['accuracy'] = [val for val in accuracies.accuracy for _ in range(3)]*3\n",
    "power"
   ]
  },
  {
   "cell_type": "markdown",
   "id": "2a43008d",
   "metadata": {},
   "source": [
    "## Plots"
   ]
  },
  {
   "cell_type": "code",
   "execution_count": 82,
   "id": "8817e977",
   "metadata": {},
   "outputs": [
    {
     "data": {
      "text/plain": [
       "<AxesSubplot:xlabel='accuracy', ylabel='power'>"
      ]
     },
     "execution_count": 82,
     "metadata": {},
     "output_type": "execute_result"
    },
    {
     "data": {
      "image/png": "[encoded data removed]",
      "text/plain": [
       "<Figure size 432x288 with 1 Axes>"
      ]
     },
     "metadata": {
      "needs_background": "light"
     },
     "output_type": "display_data"
    }
   ],
   "source": [
    "power_130 = power[power.stimulus == 130]\n",
    "sns.regplot(data = power_130, x=\"accuracy\", y=\"power\")\n",
    "# reg = LinearRegression().fit(power_130.accuracy, power_130.power)"
   ]
  },
  {
   "cell_type": "code",
   "execution_count": 78,
   "id": "d552942a",
   "metadata": {},
   "outputs": [
    {
     "data": {
      "text/plain": [
       "<AxesSubplot:xlabel='accuracy', ylabel='power'>"
      ]
     },
     "execution_count": 78,
     "metadata": {},
     "output_type": "execute_result"
    },
    {
     "data": {
      "image/png": "[encoded data removed]",
      "text/plain": [
       "<Figure size 432x288 with 1 Axes>"
      ]
     },
     "metadata": {
      "needs_background": "light"
     },
     "output_type": "display_data"
    }
   ],
   "source": [
    "power_200 = power[power.stimulus == 200]\n",
    "sns.regplot(data = power_200, x=\"accuracy\", y=\"power\")"
   ]
  },
  {
   "cell_type": "code",
   "execution_count": 83,
   "id": "5e0c4b96",
   "metadata": {},
   "outputs": [
    {
     "data": {
      "text/plain": [
       "<AxesSubplot:xlabel='accuracy', ylabel='power'>"
      ]
     },
     "execution_count": 83,
     "metadata": {},
     "output_type": "execute_result"
    },
    {
     "data": {
      "image/png": "[encoded data removed]",
      "text/plain": [
       "<Figure size 432x288 with 1 Axes>"
      ]
     },
     "metadata": {
      "needs_background": "light"
     },
     "output_type": "display_data"
    }
   ],
   "source": [
    "power_280 = power[power.stimulus == 280]\n",
    "sns.regplot(data = power_280, x=\"accuracy\", y=\"power\")"
   ]
  },
  {
   "cell_type": "code",
   "execution_count": 69,
   "id": "eab0389b",
   "metadata": {},
   "outputs": [
    {
     "data": {
      "text/plain": [
       "28"
      ]
     },
     "execution_count": 69,
     "metadata": {},
     "output_type": "execute_result"
    }
   ],
   "source": [
    "len(np.unique(accuracies.sub_num))"
   ]
  },
  {
   "cell_type": "code",
   "execution_count": 72,
   "id": "c23dc172",
   "metadata": {},
   "outputs": [
    {
     "data": {
      "text/plain": [
       "252"
      ]
     },
     "execution_count": 72,
     "metadata": {},
     "output_type": "execute_result"
    }
   ],
   "source": [
    "84*3"
   ]
  },
  {
   "cell_type": "code",
   "execution_count": null,
   "id": "dc79be59",
   "metadata": {},
   "outputs": [],
   "source": []
  }
 ],
 "metadata": {
  "kernelspec": {
   "display_name": "Python 3 (ipykernel)",
   "language": "python",
   "name": "python3"
  },
  "language_info": {
   "codemirror_mode": {
    "name": "ipython",
    "version": 3
   },
   "file_extension": ".py",
   "mimetype": "text/x-python",
   "name": "python",
   "nbconvert_exporter": "python",
   "pygments_lexer": "ipython3",
   "version": "3.10.4"
  }
 },
 "nbformat": 4,
 "nbformat_minor": 5
}
